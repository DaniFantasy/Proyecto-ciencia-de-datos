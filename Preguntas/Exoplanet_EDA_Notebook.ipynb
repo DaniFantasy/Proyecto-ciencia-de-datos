{
 "cells": [
  {
   "cell_type": "markdown",
   "id": "00cdf530",
   "metadata": {},
   "source": [
    "# Glosario\n",
    "\n",
    "1. [Pregunta 1: Distribución de Tamaños según Tipo de Estrella](#pregunta-1-distribución-de-tamaños-según-tipo-de-estrella)\n",
    "2. [Pregunta 2: Relación Masa-Masa estrella planeta](#pregunta-2-relación-masa-masa-estrella-planeta)\n",
    "3. [Pregunta 3: Frecuencia de Planetas Gigantes en distintas estrellas](#pregunta-3-frecuencia-de-planetas-gigantes-en-distintas-estrellas)\n",
    "4. [Pregunta 4: Clasificación de planetas según Contexto Estelar](#pregunta-4-clasificacion-de-planetas-segun-contexto-estelar)\n",
    "5. [Pregunta 5: Descubrimientos de Planetas por tipo y año](#pregunta-5-descubrimientos-de-planetas-por-tipo-y-año)\n"
   ]
  },
  {
   "cell_type": "markdown",
   "id": "691f1394",
   "metadata": {},
   "source": [
    "\n",
    "## Análisis Exploratorio de Datos: Exoplanetas y Estrellas Anfitrionas\n",
    "Este cuaderno reproduce el Análisis Exploratorio de Datos (EDA) realizado sobre el conjunto de datos de exoplanetas extraído de bases de datos públicas. El objetivo es investigar cómo las propiedades de las estrellas influyen en las de sus exoplanetas."
   ]
  },
  {
   "cell_type": "markdown",
   "id": "ba263ca5",
   "metadata": {},
   "source": [
    "## Análisis Detallado: Respuestas a Preguntas Específicas\n",
    "\n",
    "Responderemos a 5 preguntas de investigación sobre la relación entre las características estelares y planetarias.\n"
   ]
  },
  {
   "cell_type": "markdown",
   "id": "33c111b4",
   "metadata": {},
   "source": [
    "### Librerías"
   ]
  },
  {
   "cell_type": "code",
   "execution_count": 46,
   "id": "49b6447a",
   "metadata": {},
   "outputs": [],
   "source": [
    "import os\n",
    "import numpy as np\n",
    "import pandas as pd\n",
    "import matplotlib.pyplot as plt\n",
    "import seaborn as sns"
   ]
  },
  {
   "cell_type": "markdown",
   "id": "3a3cc81d",
   "metadata": {},
   "source": [
    "## Pregunta 1: Distribución de Tamaños según Tipo de Estrella\n",
    "¿Cómo varía el radio medio de los exoplanetas en sistemas de enanas rojas tipo M en comparación con sistemas de estrellas tipo G (similares al Sol) u otros tipos estelares?"
   ]
  },
  {
   "cell_type": "code",
   "execution_count": 47,
   "id": "c2f39353",
   "metadata": {},
   "outputs": [
    {
     "data": {
      "text/plain": [
       "Index(['pl_name', 'hostname', 'sy_snum', 'sy_pnum', 'discoverymethod',\n",
       "       'disc_year', 'disc_facility', 'pl_controv_flag', 'pl_orbper',\n",
       "       'pl_orbpererr1', 'pl_orbpererr2', 'pl_orbperlim', 'pl_orbsmax',\n",
       "       'pl_orbsmaxerr1', 'pl_orbsmaxerr2', 'pl_orbsmaxlim', 'pl_rade',\n",
       "       'pl_radeerr1', 'pl_radeerr2', 'pl_radelim', 'pl_radj', 'pl_radjerr1',\n",
       "       'pl_radjerr2', 'pl_radjlim', 'pl_bmasse', 'pl_bmasseerr1',\n",
       "       'pl_bmasseerr2', 'pl_bmasselim', 'pl_bmassj', 'pl_bmassjerr1',\n",
       "       'pl_bmassjerr2', 'pl_bmassjlim', 'pl_bmassprov', 'pl_orbeccen',\n",
       "       'pl_orbeccenerr1', 'pl_orbeccenerr2', 'pl_orbeccenlim', 'pl_insol',\n",
       "       'pl_insolerr1', 'pl_insolerr2', 'pl_insollim', 'pl_eqt', 'pl_eqterr1',\n",
       "       'pl_eqterr2', 'pl_eqtlim', 'ttv_flag', 'st_spectype', 'st_teff',\n",
       "       'st_tefferr1', 'st_tefferr2', 'st_tefflim', 'st_rad', 'st_raderr1',\n",
       "       'st_raderr2', 'st_radlim', 'st_mass', 'st_masserr1', 'st_masserr2',\n",
       "       'st_masslim', 'st_met', 'st_meterr1', 'st_meterr2', 'st_metlim',\n",
       "       'st_metratio', 'st_logg', 'st_loggerr1', 'st_loggerr2', 'st_logglim',\n",
       "       'rastr', 'ra', 'decstr', 'dec', 'sy_dist', 'sy_disterr1', 'sy_disterr2',\n",
       "       'sy_vmag', 'sy_vmagerr1', 'sy_vmagerr2', 'sy_kmag', 'sy_kmagerr1',\n",
       "       'sy_kmagerr2', 'sy_gaiamag', 'sy_gaiamagerr1', 'sy_gaiamagerr2'],\n",
       "      dtype='object')"
      ]
     },
     "execution_count": 47,
     "metadata": {},
     "output_type": "execute_result"
    }
   ],
   "source": [
    "ruta = os.path.join(\"Data\", \"PSCompPars_2025.10.17_15.58.36.csv\")\n",
    "archivo = pd.read_csv(ruta, on_bad_lines=\"skip\", skiprows=88)\n",
    "archivo\n",
    "tipom = archivo[archivo[\"st_spectype\"].str[0]==\"M\"]\n",
    "tipog = archivo[archivo[\"st_spectype\"].str[0]==\"G\"]\n",
    "otros = archivo[(archivo[\"st_spectype\"].str[0]!=\"G\") & (archivo[\"st_spectype\"].str[0]!=\"M\")]\n",
    "archivo.columns"
   ]
  },
  {
   "cell_type": "code",
   "execution_count": 48,
   "id": "141af91d",
   "metadata": {},
   "outputs": [
    {
     "data": {
      "text/plain": [
       "count    499.000000\n",
       "mean       3.986597\n",
       "std        4.261937\n",
       "min        0.566000\n",
       "25%        1.454000\n",
       "50%        2.200000\n",
       "75%        3.735000\n",
       "max       30.264300\n",
       "Name: pl_rade, dtype: float64"
      ]
     },
     "execution_count": 48,
     "metadata": {},
     "output_type": "execute_result"
    }
   ],
   "source": [
    "tipom[\"pl_rade\"].describe()"
   ]
  },
  {
   "cell_type": "code",
   "execution_count": 49,
   "id": "63ba0710",
   "metadata": {},
   "outputs": [
    {
     "data": {
      "text/plain": [
       "count    763.000000\n",
       "mean       9.504825\n",
       "std        4.942647\n",
       "min        0.400000\n",
       "25%        3.875000\n",
       "50%       12.300000\n",
       "75%       13.500000\n",
       "max       20.848740\n",
       "Name: pl_rade, dtype: float64"
      ]
     },
     "execution_count": 49,
     "metadata": {},
     "output_type": "execute_result"
    }
   ],
   "source": [
    "tipog[\"pl_rade\"].describe()"
   ]
  },
  {
   "cell_type": "code",
   "execution_count": 50,
   "id": "3ba5e5ed",
   "metadata": {},
   "outputs": [
    {
     "data": {
      "text/plain": [
       "count    4742.000000\n",
       "mean        5.406988\n",
       "std         5.257079\n",
       "min         0.309800\n",
       "25%         1.750000\n",
       "50%         2.680000\n",
       "75%        10.123206\n",
       "max        77.342100\n",
       "Name: pl_rade, dtype: float64"
      ]
     },
     "execution_count": 50,
     "metadata": {},
     "output_type": "execute_result"
    }
   ],
   "source": [
    "otros[\"pl_rade\"].describe()"
   ]
  },
  {
   "cell_type": "markdown",
   "id": "ea658b7a",
   "metadata": {},
   "source": [
    "hacemos una comparación grafica respecto a la pregunta, la cual nos dice que los planetas de tipo m, suelen tener menor radio a comparacion de los demas, y es más notorio si lo comparamos con los de tipo g"
   ]
  },
  {
   "cell_type": "code",
   "execution_count": 51,
   "id": "974016b6",
   "metadata": {},
   "outputs": [
    {
     "data": {
      "text/plain": [
       "<BarContainer object of 3 artists>"
      ]
     },
     "execution_count": 51,
     "metadata": {},
     "output_type": "execute_result"
    },
    {
     "data": {
      "image/png": "[encoded data removed]",
      "text/plain": [
       "<Figure size 640x480 with 1 Axes>"
      ]
     },
     "metadata": {},
     "output_type": "display_data"
    }
   ],
   "source": [
    "plt.bar([\"tipo_m\", \"tipo_g\", \"otros\"],[tipom[\"pl_rade\"].mean(), tipog[\"pl_rade\"].mean(), otros[\"pl_rade\"].mean()])"
   ]
  },
  {
   "cell_type": "markdown",
   "id": "63882acc",
   "metadata": {},
   "source": [
    "Visualizamos individualmente los graficos para ver si los datos son representativos"
   ]
  },
  {
   "cell_type": "code",
   "execution_count": 52,
   "id": "d5ebd96d",
   "metadata": {},
   "outputs": [
    {
     "data": {
      "text/plain": [
       "<Axes: xlabel='pl_rade', ylabel='Count'>"
      ]
     },
     "execution_count": 52,
     "metadata": {},
     "output_type": "execute_result"
    },
    {
     "data": {
      "image/png": "[encoded data removed]",
      "text/plain": [
       "<Figure size 640x480 with 1 Axes>"
      ]
     },
     "metadata": {},
     "output_type": "display_data"
    }
   ],
   "source": [
    "sns.histplot(data=tipom[\"pl_rade\"], kde=True, bins=100)"
   ]
  },
  {
   "cell_type": "code",
   "execution_count": 53,
   "id": "fbd29055",
   "metadata": {},
   "outputs": [
    {
     "data": {
      "text/plain": [
       "<Axes: xlabel='pl_rade', ylabel='Count'>"
      ]
     },
     "execution_count": 53,
     "metadata": {},
     "output_type": "execute_result"
    },
    {
     "data": {
      "image/png": "[encoded data removed]",
      "text/plain": [
       "<Figure size 640x480 with 1 Axes>"
      ]
     },
     "metadata": {},
     "output_type": "display_data"
    }
   ],
   "source": [
    "sns.histplot(data=tipog[\"pl_rade\"], kde=True, bins=100)"
   ]
  },
  {
   "cell_type": "code",
   "execution_count": 54,
   "id": "ba672ae8",
   "metadata": {},
   "outputs": [
    {
     "data": {
      "text/plain": [
       "<Axes: xlabel='pl_rade', ylabel='Count'>"
      ]
     },
     "execution_count": 54,
     "metadata": {},
     "output_type": "execute_result"
    },
    {
     "data": {
      "image/png": "[encoded data removed]",
      "text/plain": [
       "<Figure size 640x480 with 1 Axes>"
      ]
     },
     "metadata": {},
     "output_type": "display_data"
    }
   ],
   "source": [
    "sns.histplot(data=otros[\"pl_rade\"], kde=True, bins=100)"
   ]
  },
  {
   "cell_type": "markdown",
   "id": "e8706432",
   "metadata": {},
   "source": [
    "los datos entre los 3 tipos espectrales, suelen tener una tendencia, por lo que nos da indicios sobre la pregunta inicial"
   ]
  },
  {
   "cell_type": "markdown",
   "id": "b3b75d83",
   "metadata": {},
   "source": [
    "### Pregunta 2: Relación Masa-Masa (Estrella-Planeta)\n",
    "\n",
    "¿Existe una correlación clara entre la masa de la estrella y la masa de sus planetas? Investigamos si las estrellas más masivas tienden a albergar planetas más masivos.\n"
   ]
  },
  {
   "cell_type": "code",
   "execution_count": 55,
   "id": "b697512d",
   "metadata": {},
   "outputs": [],
   "source": [
    "archivo = os.path.join('Data', 'datosdaniel.csv')\n",
    "\n",
    "df = pd.read_csv(archivo, on_bad_lines='skip', skiprows=70)"
   ]
  },
  {
   "cell_type": "code",
   "execution_count": 56,
   "id": "ebcd9bf0",
   "metadata": {},
   "outputs": [],
   "source": [
    "eliminar = ['pl_controv_flag', 'pl_orbper', 'pl_orbpererr1',\n",
    "       'pl_orbpererr2', 'pl_orbperlim', 'pl_orbsmax', 'pl_orbsmaxerr1',\n",
    "       'pl_orbsmaxerr2', 'pl_orbsmaxlim', 'pl_radeerr1',\n",
    "       'pl_radeerr2', 'pl_radelim', 'pl_radj', 'pl_radjerr1', 'pl_radjerr2',\n",
    "       'pl_radjlim','pl_bmasseerr1', 'pl_bmasseerr2',\n",
    "       'pl_bmasselim','pl_bmassjerr1', 'pl_bmassjerr2',\n",
    "       'pl_bmassjlim', 'pl_bmassprov', 'pl_orbeccen', 'pl_orbeccenerr1',\n",
    "       'pl_orbeccenerr2', 'pl_orbeccenlim', 'pl_insol', 'pl_insolerr1',\n",
    "       'pl_insolerr2', 'pl_insollim', 'pl_eqt', 'pl_eqterr1', 'pl_eqterr2',\n",
    "       'pl_eqtlim','st_tefferr1', 'st_tefferr2',\n",
    "       'st_tefflim','st_raderr1', 'st_raderr2', 'st_radlim', 'st_masserr1', 'st_masserr2', 'st_masslim', 'st_met',\n",
    "       'st_meterr1', 'st_meterr2', 'st_metlim', 'st_metratio', 'st_logg',\n",
    "       'st_loggerr1', 'st_loggerr2', 'st_logglim']\n",
    "df.drop(eliminar, axis=1, inplace=True)\n",
    "\n",
    "# Se eliminaran la mayoria de columnas, dejando lo esencial y de ser necesaria mas informacion, se volvera hacia atras manteniendo\n",
    "# La informacion recolectada hasta el momento"
   ]
  },
  {
   "cell_type": "code",
   "execution_count": 57,
   "id": "092a0097",
   "metadata": {},
   "outputs": [
    {
     "data": {
      "text/html": [
       "<div>\n",
       "<style scoped>\n",
       "    .dataframe tbody tr th:only-of-type {\n",
       "        vertical-align: middle;\n",
       "    }\n",
       "\n",
       "    .dataframe tbody tr th {\n",
       "        vertical-align: top;\n",
       "    }\n",
       "\n",
       "    .dataframe thead th {\n",
       "        text-align: right;\n",
       "    }\n",
       "</style>\n",
       "<table border=\"1\" class=\"dataframe\">\n",
       "  <thead>\n",
       "    <tr style=\"text-align: right;\">\n",
       "      <th></th>\n",
       "      <th>pl_bmasse</th>\n",
       "      <th>pl_bmassj</th>\n",
       "      <th>st_mass</th>\n",
       "    </tr>\n",
       "  </thead>\n",
       "  <tbody>\n",
       "    <tr>\n",
       "      <th>0</th>\n",
       "      <td>4914.898486</td>\n",
       "      <td>15.4640</td>\n",
       "      <td>2.09</td>\n",
       "    </tr>\n",
       "    <tr>\n",
       "      <th>1</th>\n",
       "      <td>4684.814200</td>\n",
       "      <td>14.7400</td>\n",
       "      <td>2.78</td>\n",
       "    </tr>\n",
       "    <tr>\n",
       "      <th>2</th>\n",
       "      <td>1131.151301</td>\n",
       "      <td>3.5590</td>\n",
       "      <td>1.78</td>\n",
       "    </tr>\n",
       "    <tr>\n",
       "      <th>3</th>\n",
       "      <td>2559.472162</td>\n",
       "      <td>8.0530</td>\n",
       "      <td>0.91</td>\n",
       "    </tr>\n",
       "    <tr>\n",
       "      <th>4</th>\n",
       "      <td>565.737400</td>\n",
       "      <td>1.7800</td>\n",
       "      <td>1.08</td>\n",
       "    </tr>\n",
       "    <tr>\n",
       "      <th>...</th>\n",
       "      <td>...</td>\n",
       "      <td>...</td>\n",
       "      <td>...</td>\n",
       "    </tr>\n",
       "    <tr>\n",
       "      <th>6023</th>\n",
       "      <td>218.531000</td>\n",
       "      <td>0.6876</td>\n",
       "      <td>1.30</td>\n",
       "    </tr>\n",
       "    <tr>\n",
       "      <th>6024</th>\n",
       "      <td>4443.241130</td>\n",
       "      <td>13.9800</td>\n",
       "      <td>1.30</td>\n",
       "    </tr>\n",
       "    <tr>\n",
       "      <th>6025</th>\n",
       "      <td>3257.741172</td>\n",
       "      <td>10.2500</td>\n",
       "      <td>1.30</td>\n",
       "    </tr>\n",
       "    <tr>\n",
       "      <th>6026</th>\n",
       "      <td>162.092488</td>\n",
       "      <td>0.5100</td>\n",
       "      <td>1.48</td>\n",
       "    </tr>\n",
       "    <tr>\n",
       "      <th>6027</th>\n",
       "      <td>616.904938</td>\n",
       "      <td>1.9410</td>\n",
       "      <td>1.74</td>\n",
       "    </tr>\n",
       "  </tbody>\n",
       "</table>\n",
       "<p>6028 rows × 3 columns</p>\n",
       "</div>"
      ],
      "text/plain": [
       "        pl_bmasse  pl_bmassj  st_mass\n",
       "0     4914.898486    15.4640     2.09\n",
       "1     4684.814200    14.7400     2.78\n",
       "2     1131.151301     3.5590     1.78\n",
       "3     2559.472162     8.0530     0.91\n",
       "4      565.737400     1.7800     1.08\n",
       "...           ...        ...      ...\n",
       "6023   218.531000     0.6876     1.30\n",
       "6024  4443.241130    13.9800     1.30\n",
       "6025  3257.741172    10.2500     1.30\n",
       "6026   162.092488     0.5100     1.48\n",
       "6027   616.904938     1.9410     1.74\n",
       "\n",
       "[6028 rows x 3 columns]"
      ]
     },
     "execution_count": 57,
     "metadata": {},
     "output_type": "execute_result"
    }
   ],
   "source": [
    "masa = pd.concat([df['pl_bmasse'], df['pl_bmassj'], df['st_mass']], axis=1, ignore_index=False)\n",
    "masa\n",
    "# Concadenamos las columnas que nos interesan"
   ]
  },
  {
   "cell_type": "code",
   "execution_count": 58,
   "id": "009e1e20",
   "metadata": {},
   "outputs": [
    {
     "data": {
      "text/plain": [
       "<Axes: xlabel='pl_bmasse', ylabel='st_mass'>"
      ]
     },
     "execution_count": 58,
     "metadata": {},
     "output_type": "execute_result"
    },
    {
     "data": {
      "image/png": "[encoded data removed]",
      "text/plain": [
       "<Figure size 640x480 with 1 Axes>"
      ]
     },
     "metadata": {},
     "output_type": "display_data"
    }
   ],
   "source": [
    "masa.plot(x='pl_bmasse', y='st_mass', kind='scatter')\n",
    "# Grafico con datos crudos"
   ]
  },
  {
   "cell_type": "code",
   "execution_count": 59,
   "id": "af1b5490",
   "metadata": {},
   "outputs": [
    {
     "data": {
      "text/plain": [
       "count     8.000000\n",
       "mean      7.336250\n",
       "std       2.486339\n",
       "min       4.300000\n",
       "25%       5.200000\n",
       "50%       7.745000\n",
       "75%       9.070000\n",
       "max      10.940000\n",
       "Name: st_mass, dtype: float64"
      ]
     },
     "execution_count": 59,
     "metadata": {},
     "output_type": "execute_result"
    }
   ],
   "source": [
    "# Ahora analizaremos mas profundamente, indagando en los planetas de mayor y menor tamaño\n",
    "masa['st_mass'].describe()\n",
    "\n",
    "msolar_1 = masa[masa['st_mass'] <= 2.0]\n",
    "msolar_2 = masa[(masa['st_mass'] >= 2.0) & (masa['st_mass'] <= 4.0)]\n",
    "msolar_3 = masa[masa['st_mass'] >= 4.0]\n",
    "\n",
    "msolar_1['st_mass'].describe()  # Dos masas solares\n",
    "msolar_2['st_mass'].describe()  # Entre dos y cuatro masas solares\n",
    "msolar_3['st_mass'].describe()  # Mayor a cuatro masas solares"
   ]
  },
  {
   "cell_type": "code",
   "execution_count": 60,
   "id": "4f991a7e",
   "metadata": {},
   "outputs": [
    {
     "data": {
      "text/plain": [
       "<Axes: xlabel='pl_bmasse', ylabel='st_mass'>"
      ]
     },
     "execution_count": 60,
     "metadata": {},
     "output_type": "execute_result"
    },
    {
     "data": {
      "image/png": "[encoded data removed]",
      "text/plain": [
       "<Figure size 640x480 with 1 Axes>"
      ]
     },
     "metadata": {},
     "output_type": "display_data"
    },
    {
     "data": {
      "image/png": "[encoded data removed]",
      "text/plain": [
       "<Figure size 640x480 with 1 Axes>"
      ]
     },
     "metadata": {},
     "output_type": "display_data"
    },
    {
     "data": {
      "image/png": "[encoded data removed]",
      "text/plain": [
       "<Figure size 640x480 with 1 Axes>"
      ]
     },
     "metadata": {},
     "output_type": "display_data"
    }
   ],
   "source": [
    "msolar_1.plot(x='pl_bmasse', y='st_mass', kind='scatter')\n",
    "msolar_2.plot(x='pl_bmasse', y='st_mass', kind='scatter')\n",
    "msolar_3.plot(x='pl_bmasse', y='st_mass', kind='scatter')"
   ]
  },
  {
   "cell_type": "markdown",
   "id": "81e27053",
   "metadata": {},
   "source": [
    "### Pregunta 3: Frecuencia de Planetas Gigantes en Distintas Estrellas\n",
    "\n",
    "¿Cuál es la frecuencia de planetas tipo Júpiter (gigantes gaseosos) alrededor de estrellas de diferente tipo espectral? Comparamos la proporción entre enanas rojas tipo M y estrellas tipo solar.\n"
   ]
  },
  {
   "cell_type": "code",
   "execution_count": 61,
   "id": "ec7a99d2",
   "metadata": {},
   "outputs": [
    {
     "data": {
      "text/html": [
       "<div>\n",
       "<style scoped>\n",
       "    .dataframe tbody tr th:only-of-type {\n",
       "        vertical-align: middle;\n",
       "    }\n",
       "\n",
       "    .dataframe tbody tr th {\n",
       "        vertical-align: top;\n",
       "    }\n",
       "\n",
       "    .dataframe thead th {\n",
       "        text-align: right;\n",
       "    }\n",
       "</style>\n",
       "<table border=\"1\" class=\"dataframe\">\n",
       "  <thead>\n",
       "    <tr style=\"text-align: right;\">\n",
       "      <th></th>\n",
       "      <th>pl_name</th>\n",
       "      <th>hostname</th>\n",
       "      <th>sy_snum</th>\n",
       "      <th>sy_pnum</th>\n",
       "      <th>discoverymethod</th>\n",
       "      <th>disc_year</th>\n",
       "      <th>disc_facility</th>\n",
       "      <th>pl_controv_flag</th>\n",
       "      <th>pl_orbper</th>\n",
       "      <th>pl_orbpererr1</th>\n",
       "      <th>...</th>\n",
       "      <th>sy_disterr2</th>\n",
       "      <th>sy_vmag</th>\n",
       "      <th>sy_vmagerr1</th>\n",
       "      <th>sy_vmagerr2</th>\n",
       "      <th>sy_kmag</th>\n",
       "      <th>sy_kmagerr1</th>\n",
       "      <th>sy_kmagerr2</th>\n",
       "      <th>sy_gaiamag</th>\n",
       "      <th>sy_gaiamagerr1</th>\n",
       "      <th>sy_gaiamagerr2</th>\n",
       "    </tr>\n",
       "  </thead>\n",
       "  <tbody>\n",
       "    <tr>\n",
       "      <th>0</th>\n",
       "      <td>11 Com b</td>\n",
       "      <td>11 Com</td>\n",
       "      <td>2</td>\n",
       "      <td>1</td>\n",
       "      <td>Radial Velocity</td>\n",
       "      <td>2007</td>\n",
       "      <td>Xinglong Station</td>\n",
       "      <td>0</td>\n",
       "      <td>323.21000</td>\n",
       "      <td>0.06</td>\n",
       "      <td>...</td>\n",
       "      <td>-1.9238</td>\n",
       "      <td>4.72307</td>\n",
       "      <td>0.023</td>\n",
       "      <td>-0.023</td>\n",
       "      <td>2.282</td>\n",
       "      <td>0.346</td>\n",
       "      <td>-0.346</td>\n",
       "      <td>4.44038</td>\n",
       "      <td>0.003848</td>\n",
       "      <td>-0.003848</td>\n",
       "    </tr>\n",
       "    <tr>\n",
       "      <th>1</th>\n",
       "      <td>11 UMi b</td>\n",
       "      <td>11 UMi</td>\n",
       "      <td>1</td>\n",
       "      <td>1</td>\n",
       "      <td>Radial Velocity</td>\n",
       "      <td>2009</td>\n",
       "      <td>Thueringer Landessternwarte Tautenburg</td>\n",
       "      <td>0</td>\n",
       "      <td>516.21997</td>\n",
       "      <td>3.20</td>\n",
       "      <td>...</td>\n",
       "      <td>-1.9765</td>\n",
       "      <td>5.01300</td>\n",
       "      <td>0.005</td>\n",
       "      <td>-0.005</td>\n",
       "      <td>1.939</td>\n",
       "      <td>0.270</td>\n",
       "      <td>-0.270</td>\n",
       "      <td>4.56216</td>\n",
       "      <td>0.003903</td>\n",
       "      <td>-0.003903</td>\n",
       "    </tr>\n",
       "    <tr>\n",
       "      <th>2</th>\n",
       "      <td>14 And b</td>\n",
       "      <td>14 And</td>\n",
       "      <td>1</td>\n",
       "      <td>1</td>\n",
       "      <td>Radial Velocity</td>\n",
       "      <td>2008</td>\n",
       "      <td>Okayama Astrophysical Observatory</td>\n",
       "      <td>0</td>\n",
       "      <td>186.76000</td>\n",
       "      <td>0.11</td>\n",
       "      <td>...</td>\n",
       "      <td>-0.7140</td>\n",
       "      <td>5.23133</td>\n",
       "      <td>0.023</td>\n",
       "      <td>-0.023</td>\n",
       "      <td>2.331</td>\n",
       "      <td>0.240</td>\n",
       "      <td>-0.240</td>\n",
       "      <td>4.91781</td>\n",
       "      <td>0.002826</td>\n",
       "      <td>-0.002826</td>\n",
       "    </tr>\n",
       "  </tbody>\n",
       "</table>\n",
       "<p>3 rows × 84 columns</p>\n",
       "</div>"
      ],
      "text/plain": [
       "    pl_name hostname  sy_snum  sy_pnum  discoverymethod  disc_year  \\\n",
       "0  11 Com b   11 Com        2        1  Radial Velocity       2007   \n",
       "1  11 UMi b   11 UMi        1        1  Radial Velocity       2009   \n",
       "2  14 And b   14 And        1        1  Radial Velocity       2008   \n",
       "\n",
       "                            disc_facility  pl_controv_flag  pl_orbper  \\\n",
       "0                        Xinglong Station                0  323.21000   \n",
       "1  Thueringer Landessternwarte Tautenburg                0  516.21997   \n",
       "2       Okayama Astrophysical Observatory                0  186.76000   \n",
       "\n",
       "   pl_orbpererr1  ...  sy_disterr2  sy_vmag  sy_vmagerr1  sy_vmagerr2  \\\n",
       "0           0.06  ...      -1.9238  4.72307        0.023       -0.023   \n",
       "1           3.20  ...      -1.9765  5.01300        0.005       -0.005   \n",
       "2           0.11  ...      -0.7140  5.23133        0.023       -0.023   \n",
       "\n",
       "   sy_kmag  sy_kmagerr1  sy_kmagerr2  sy_gaiamag  sy_gaiamagerr1  \\\n",
       "0    2.282        0.346       -0.346     4.44038        0.003848   \n",
       "1    1.939        0.270       -0.270     4.56216        0.003903   \n",
       "2    2.331        0.240       -0.240     4.91781        0.002826   \n",
       "\n",
       "   sy_gaiamagerr2  \n",
       "0       -0.003848  \n",
       "1       -0.003903  \n",
       "2       -0.002826  \n",
       "\n",
       "[3 rows x 84 columns]"
      ]
     },
     "execution_count": 61,
     "metadata": {},
     "output_type": "execute_result"
    }
   ],
   "source": [
    "ruta = os.path.join(\"Data\",\"pscomppars.csv\")\n",
    "df = pd.read_csv(ruta, skiprows=88)\n",
    "df.head(3)"
   ]
  },
  {
   "cell_type": "code",
   "execution_count": 62,
   "id": "6a29d308",
   "metadata": {},
   "outputs": [
    {
     "data": {
      "text/html": [
       "<div>\n",
       "<style scoped>\n",
       "    .dataframe tbody tr th:only-of-type {\n",
       "        vertical-align: middle;\n",
       "    }\n",
       "\n",
       "    .dataframe tbody tr th {\n",
       "        vertical-align: top;\n",
       "    }\n",
       "\n",
       "    .dataframe thead th {\n",
       "        text-align: right;\n",
       "    }\n",
       "</style>\n",
       "<table border=\"1\" class=\"dataframe\">\n",
       "  <thead>\n",
       "    <tr style=\"text-align: right;\">\n",
       "      <th></th>\n",
       "      <th>sy_snum</th>\n",
       "      <th>sy_pnum</th>\n",
       "      <th>disc_year</th>\n",
       "      <th>pl_controv_flag</th>\n",
       "      <th>pl_orbper</th>\n",
       "      <th>pl_orbpererr1</th>\n",
       "      <th>pl_orbpererr2</th>\n",
       "      <th>pl_orbperlim</th>\n",
       "      <th>pl_orbsmax</th>\n",
       "      <th>pl_orbsmaxerr1</th>\n",
       "      <th>...</th>\n",
       "      <th>sy_disterr2</th>\n",
       "      <th>sy_vmag</th>\n",
       "      <th>sy_vmagerr1</th>\n",
       "      <th>sy_vmagerr2</th>\n",
       "      <th>sy_kmag</th>\n",
       "      <th>sy_kmagerr1</th>\n",
       "      <th>sy_kmagerr2</th>\n",
       "      <th>sy_gaiamag</th>\n",
       "      <th>sy_gaiamagerr1</th>\n",
       "      <th>sy_gaiamagerr2</th>\n",
       "    </tr>\n",
       "  </thead>\n",
       "  <tbody>\n",
       "    <tr>\n",
       "      <th>count</th>\n",
       "      <td>6028.00000</td>\n",
       "      <td>6028.000000</td>\n",
       "      <td>6028.000000</td>\n",
       "      <td>6028.000000</td>\n",
       "      <td>5.720000e+03</td>\n",
       "      <td>5.229000e+03</td>\n",
       "      <td>5.229000e+03</td>\n",
       "      <td>5720.000000</td>\n",
       "      <td>5726.000000</td>\n",
       "      <td>3784.000000</td>\n",
       "      <td>...</td>\n",
       "      <td>5895.000000</td>\n",
       "      <td>5757.000000</td>\n",
       "      <td>5749.000000</td>\n",
       "      <td>5743.000000</td>\n",
       "      <td>5766.000000</td>\n",
       "      <td>5729.000000</td>\n",
       "      <td>5717.000000</td>\n",
       "      <td>5710.000000</td>\n",
       "      <td>5709.000000</td>\n",
       "      <td>5709.000000</td>\n",
       "    </tr>\n",
       "    <tr>\n",
       "      <th>mean</th>\n",
       "      <td>1.10418</td>\n",
       "      <td>1.768414</td>\n",
       "      <td>2016.815362</td>\n",
       "      <td>0.005972</td>\n",
       "      <td>7.481418e+04</td>\n",
       "      <td>9.154382e+04</td>\n",
       "      <td>-2.090947e+04</td>\n",
       "      <td>-0.001049</td>\n",
       "      <td>15.659613</td>\n",
       "      <td>1.831335</td>\n",
       "      <td>...</td>\n",
       "      <td>-63.554841</td>\n",
       "      <td>12.567574</td>\n",
       "      <td>0.098826</td>\n",
       "      <td>-0.100362</td>\n",
       "      <td>10.412454</td>\n",
       "      <td>0.043491</td>\n",
       "      <td>-0.043513</td>\n",
       "      <td>12.277878</td>\n",
       "      <td>0.000639</td>\n",
       "      <td>-0.000639</td>\n",
       "    </tr>\n",
       "    <tr>\n",
       "      <th>std</th>\n",
       "      <td>0.34481</td>\n",
       "      <td>1.151874</td>\n",
       "      <td>4.871597</td>\n",
       "      <td>0.077055</td>\n",
       "      <td>5.317788e+06</td>\n",
       "      <td>6.499948e+06</td>\n",
       "      <td>1.384963e+06</td>\n",
       "      <td>0.032373</td>\n",
       "      <td>352.105562</td>\n",
       "      <td>84.819243</td>\n",
       "      <td>...</td>\n",
       "      <td>268.313335</td>\n",
       "      <td>3.064943</td>\n",
       "      <td>0.136510</td>\n",
       "      <td>0.203252</td>\n",
       "      <td>2.998351</td>\n",
       "      <td>0.287448</td>\n",
       "      <td>0.292825</td>\n",
       "      <td>2.963957</td>\n",
       "      <td>0.001788</td>\n",
       "      <td>0.001788</td>\n",
       "    </tr>\n",
       "    <tr>\n",
       "      <th>min</th>\n",
       "      <td>1.00000</td>\n",
       "      <td>1.000000</td>\n",
       "      <td>1992.000000</td>\n",
       "      <td>0.000000</td>\n",
       "      <td>9.070629e-02</td>\n",
       "      <td>0.000000e+00</td>\n",
       "      <td>-1.000000e+08</td>\n",
       "      <td>-1.000000</td>\n",
       "      <td>0.004400</td>\n",
       "      <td>0.000000</td>\n",
       "      <td>...</td>\n",
       "      <td>-2840.000000</td>\n",
       "      <td>0.872000</td>\n",
       "      <td>0.001000</td>\n",
       "      <td>-11.920000</td>\n",
       "      <td>-3.044000</td>\n",
       "      <td>0.011000</td>\n",
       "      <td>-9.995000</td>\n",
       "      <td>2.364310</td>\n",
       "      <td>0.000112</td>\n",
       "      <td>-0.063232</td>\n",
       "    </tr>\n",
       "    <tr>\n",
       "      <th>25%</th>\n",
       "      <td>1.00000</td>\n",
       "      <td>1.000000</td>\n",
       "      <td>2014.000000</td>\n",
       "      <td>0.000000</td>\n",
       "      <td>4.341330e+00</td>\n",
       "      <td>1.225000e-05</td>\n",
       "      <td>-1.550000e-03</td>\n",
       "      <td>0.000000</td>\n",
       "      <td>0.052300</td>\n",
       "      <td>0.000700</td>\n",
       "      <td>...</td>\n",
       "      <td>-16.701000</td>\n",
       "      <td>10.675000</td>\n",
       "      <td>0.030000</td>\n",
       "      <td>-0.126000</td>\n",
       "      <td>8.402000</td>\n",
       "      <td>0.020000</td>\n",
       "      <td>-0.031000</td>\n",
       "      <td>10.417225</td>\n",
       "      <td>0.000257</td>\n",
       "      <td>-0.000542</td>\n",
       "    </tr>\n",
       "    <tr>\n",
       "      <th>50%</th>\n",
       "      <td>1.00000</td>\n",
       "      <td>1.000000</td>\n",
       "      <td>2016.000000</td>\n",
       "      <td>0.000000</td>\n",
       "      <td>1.108732e+01</td>\n",
       "      <td>8.765000e-05</td>\n",
       "      <td>-8.802000e-05</td>\n",
       "      <td>0.000000</td>\n",
       "      <td>0.101450</td>\n",
       "      <td>0.001900</td>\n",
       "      <td>...</td>\n",
       "      <td>-4.152000</td>\n",
       "      <td>13.277000</td>\n",
       "      <td>0.080000</td>\n",
       "      <td>-0.080000</td>\n",
       "      <td>11.182000</td>\n",
       "      <td>0.023000</td>\n",
       "      <td>-0.023000</td>\n",
       "      <td>13.009100</td>\n",
       "      <td>0.000364</td>\n",
       "      <td>-0.000364</td>\n",
       "    </tr>\n",
       "    <tr>\n",
       "      <th>75%</th>\n",
       "      <td>1.00000</td>\n",
       "      <td>2.000000</td>\n",
       "      <td>2021.000000</td>\n",
       "      <td>0.000000</td>\n",
       "      <td>3.976274e+01</td>\n",
       "      <td>1.550000e-03</td>\n",
       "      <td>-1.231000e-05</td>\n",
       "      <td>0.000000</td>\n",
       "      <td>0.300337</td>\n",
       "      <td>0.015000</td>\n",
       "      <td>...</td>\n",
       "      <td>-0.456000</td>\n",
       "      <td>14.952000</td>\n",
       "      <td>0.126000</td>\n",
       "      <td>-0.030000</td>\n",
       "      <td>12.756750</td>\n",
       "      <td>0.031000</td>\n",
       "      <td>-0.020000</td>\n",
       "      <td>14.710425</td>\n",
       "      <td>0.000542</td>\n",
       "      <td>-0.000257</td>\n",
       "    </tr>\n",
       "    <tr>\n",
       "      <th>max</th>\n",
       "      <td>4.00000</td>\n",
       "      <td>8.000000</td>\n",
       "      <td>2025.000000</td>\n",
       "      <td>1.000000</td>\n",
       "      <td>4.020000e+08</td>\n",
       "      <td>4.700000e+08</td>\n",
       "      <td>0.000000e+00</td>\n",
       "      <td>0.000000</td>\n",
       "      <td>19000.000000</td>\n",
       "      <td>5205.000000</td>\n",
       "      <td>...</td>\n",
       "      <td>-0.000350</td>\n",
       "      <td>44.610000</td>\n",
       "      <td>3.100000</td>\n",
       "      <td>-0.001000</td>\n",
       "      <td>33.110000</td>\n",
       "      <td>9.995000</td>\n",
       "      <td>-0.011000</td>\n",
       "      <td>20.186100</td>\n",
       "      <td>0.063232</td>\n",
       "      <td>-0.000112</td>\n",
       "    </tr>\n",
       "  </tbody>\n",
       "</table>\n",
       "<p>8 rows × 75 columns</p>\n",
       "</div>"
      ],
      "text/plain": [
       "          sy_snum      sy_pnum    disc_year  pl_controv_flag     pl_orbper  \\\n",
       "count  6028.00000  6028.000000  6028.000000      6028.000000  5.720000e+03   \n",
       "mean      1.10418     1.768414  2016.815362         0.005972  7.481418e+04   \n",
       "std       0.34481     1.151874     4.871597         0.077055  5.317788e+06   \n",
       "min       1.00000     1.000000  1992.000000         0.000000  9.070629e-02   \n",
       "25%       1.00000     1.000000  2014.000000         0.000000  4.341330e+00   \n",
       "50%       1.00000     1.000000  2016.000000         0.000000  1.108732e+01   \n",
       "75%       1.00000     2.000000  2021.000000         0.000000  3.976274e+01   \n",
       "max       4.00000     8.000000  2025.000000         1.000000  4.020000e+08   \n",
       "\n",
       "       pl_orbpererr1  pl_orbpererr2  pl_orbperlim    pl_orbsmax  \\\n",
       "count   5.229000e+03   5.229000e+03   5720.000000   5726.000000   \n",
       "mean    9.154382e+04  -2.090947e+04     -0.001049     15.659613   \n",
       "std     6.499948e+06   1.384963e+06      0.032373    352.105562   \n",
       "min     0.000000e+00  -1.000000e+08     -1.000000      0.004400   \n",
       "25%     1.225000e-05  -1.550000e-03      0.000000      0.052300   \n",
       "50%     8.765000e-05  -8.802000e-05      0.000000      0.101450   \n",
       "75%     1.550000e-03  -1.231000e-05      0.000000      0.300337   \n",
       "max     4.700000e+08   0.000000e+00      0.000000  19000.000000   \n",
       "\n",
       "       pl_orbsmaxerr1  ...  sy_disterr2      sy_vmag  sy_vmagerr1  \\\n",
       "count     3784.000000  ...  5895.000000  5757.000000  5749.000000   \n",
       "mean         1.831335  ...   -63.554841    12.567574     0.098826   \n",
       "std         84.819243  ...   268.313335     3.064943     0.136510   \n",
       "min          0.000000  ... -2840.000000     0.872000     0.001000   \n",
       "25%          0.000700  ...   -16.701000    10.675000     0.030000   \n",
       "50%          0.001900  ...    -4.152000    13.277000     0.080000   \n",
       "75%          0.015000  ...    -0.456000    14.952000     0.126000   \n",
       "max       5205.000000  ...    -0.000350    44.610000     3.100000   \n",
       "\n",
       "       sy_vmagerr2      sy_kmag  sy_kmagerr1  sy_kmagerr2   sy_gaiamag  \\\n",
       "count  5743.000000  5766.000000  5729.000000  5717.000000  5710.000000   \n",
       "mean     -0.100362    10.412454     0.043491    -0.043513    12.277878   \n",
       "std       0.203252     2.998351     0.287448     0.292825     2.963957   \n",
       "min     -11.920000    -3.044000     0.011000    -9.995000     2.364310   \n",
       "25%      -0.126000     8.402000     0.020000    -0.031000    10.417225   \n",
       "50%      -0.080000    11.182000     0.023000    -0.023000    13.009100   \n",
       "75%      -0.030000    12.756750     0.031000    -0.020000    14.710425   \n",
       "max      -0.001000    33.110000     9.995000    -0.011000    20.186100   \n",
       "\n",
       "       sy_gaiamagerr1  sy_gaiamagerr2  \n",
       "count     5709.000000     5709.000000  \n",
       "mean         0.000639       -0.000639  \n",
       "std          0.001788        0.001788  \n",
       "min          0.000112       -0.063232  \n",
       "25%          0.000257       -0.000542  \n",
       "50%          0.000364       -0.000364  \n",
       "75%          0.000542       -0.000257  \n",
       "max          0.063232       -0.000112  \n",
       "\n",
       "[8 rows x 75 columns]"
      ]
     },
     "execution_count": 62,
     "metadata": {},
     "output_type": "execute_result"
    }
   ],
   "source": [
    "df.describe()"
   ]
  },
  {
   "cell_type": "code",
   "execution_count": 63,
   "id": "eb62e81a",
   "metadata": {},
   "outputs": [],
   "source": [
    "def clase_espectral(s):\n",
    "    if pd.isna(s) or not isinstance(s, str) or len(s) == 0:\n",
    "        return np.nan\n",
    "    return s.strip()[0].upper()  # 'M2V' -> 'M'\n",
    "\n",
    "def clasificar_planeta(r_earth):\n",
    "    # Umbrales tentativos por radio (R_⊕): rocoso <1.6, supertierra 1.6–2.5, neptuno 2.5–4, jupiter >8\n",
    "    if pd.isna(r_earth):\n",
    "        return np.nan\n",
    "    r = float(r_earth)\n",
    "    if r < 1.6:\n",
    "        return \"rocoso\"\n",
    "    elif r < 2.5:\n",
    "        return \"supertierra\"\n",
    "    elif r < 4.0:\n",
    "        return \"neptuno\"\n",
    "    elif r >= 8.0:\n",
    "        return \"jupiter\"\n",
    "    else:\n",
    "        return \"intermedio\"\n",
    "\n",
    "if not df.empty:\n",
    "    df[\"clase_espectral\"] = df.get(\"st_spectype\").apply(clase_espectral)\n",
    "    if \"pl_rade\" in df.columns:\n",
    "        df[\"clase_planeta\"] = df[\"pl_rade\"].apply(clasificar_planeta)"
   ]
  },
  {
   "cell_type": "code",
   "execution_count": 64,
   "id": "a2cb1d26",
   "metadata": {},
   "outputs": [
    {
     "data": {
      "text/plain": [
       "clase_espectral\n",
       "G    486\n",
       "K    353\n",
       "F    233\n",
       "M     86\n",
       "A     22\n",
       "B      8\n",
       "W      2\n",
       "D      2\n",
       "L      1\n",
       "S      1\n",
       "T      1\n",
       "Name: count, dtype: int64"
      ]
     },
     "execution_count": 64,
     "metadata": {},
     "output_type": "execute_result"
    }
   ],
   "source": [
    "df_jupiter = df[df[\"clase_planeta\"] == \"jupiter\"]\n",
    "df_jupiter['clase_espectral'].value_counts()"
   ]
  },
  {
   "cell_type": "markdown",
   "id": "76a61224",
   "metadata": {},
   "source": [
    "Con esto se puede ver que donde hay más planetas gigantes tipo júpiter según el tipo de estrella que orbitan"
   ]
  },
  {
   "cell_type": "code",
   "execution_count": 65,
   "id": "19953db4",
   "metadata": {},
   "outputs": [
    {
     "data": {
      "text/plain": [
       "[(0.0, 11.0)]"
      ]
     },
     "execution_count": 65,
     "metadata": {},
     "output_type": "execute_result"
    },
    {
     "data": {
      "image/png": "[encoded data removed]",
      "text/plain": [
       "<Figure size 500x300 with 1 Axes>"
      ]
     },
     "metadata": {},
     "output_type": "display_data"
    }
   ],
   "source": [
    "fig, ax = plt.subplots(1, 1, figsize=(5,3))\n",
    "ax = sns.histplot(data=df_jupiter, x=\"clase_espectral\", bins=20, kde=True)\n",
    "ax.set_xlabel('clase espectral')\n",
    "ax.set_ylabel('cantidad')\n",
    "ax.set(xlim=(0,11))"
   ]
  },
  {
   "cell_type": "markdown",
   "id": "bf00aac2",
   "metadata": {},
   "source": [
    "### Pregunta 4: Clasificacion de Planetas segun Contexto Estelar\n",
    "\n",
    "Es posible clasificar el tipo de exoplaneta (composicion rocosa vs gaseosa) analizando las caracteristicas de su estrella anfitriona? Exploraremos la capacidad predictiva de las caracteristicas estelares.\n"
   ]
  },
  {
   "cell_type": "code",
   "execution_count": 68,
   "id": "3c101566",
   "metadata": {},
   "outputs": [
    {
     "name": "stdout",
     "output_type": "stream",
     "text": [
      "Dimensiones del conjunto de datos: (7782, 98)\n"
     ]
    },
    {
     "data": {
      "text/html": [
       "<div>\n",
       "<style scoped>\n",
       "    .dataframe tbody tr th:only-of-type {\n",
       "        vertical-align: middle;\n",
       "    }\n",
       "\n",
       "    .dataframe tbody tr th {\n",
       "        vertical-align: top;\n",
       "    }\n",
       "\n",
       "    .dataframe thead th {\n",
       "        text-align: right;\n",
       "    }\n",
       "</style>\n",
       "<table border=\"1\" class=\"dataframe\">\n",
       "  <thead>\n",
       "    <tr style=\"text-align: right;\">\n",
       "      <th></th>\n",
       "      <th>name</th>\n",
       "      <th>discovered</th>\n",
       "      <th>updated</th>\n",
       "      <th>mass</th>\n",
       "      <th>mass_error_min</th>\n",
       "      <th>mass_error_max</th>\n",
       "      <th>mass_sini</th>\n",
       "      <th>mass_sini_error_min</th>\n",
       "      <th>mass_sini_error_max</th>\n",
       "      <th>radius</th>\n",
       "      <th>...</th>\n",
       "      <th>star_teff</th>\n",
       "      <th>star_teff_error_min</th>\n",
       "      <th>star_teff_error_max</th>\n",
       "      <th>star_detected_disc</th>\n",
       "      <th>star_magnetic_field</th>\n",
       "      <th>star_alternate_names</th>\n",
       "      <th>planet_status</th>\n",
       "      <th>publication</th>\n",
       "      <th>mass_measurement_type</th>\n",
       "      <th>radius_measurement_type</th>\n",
       "    </tr>\n",
       "  </thead>\n",
       "  <tbody>\n",
       "    <tr>\n",
       "      <th>0</th>\n",
       "      <td>TOI-2844 b</td>\n",
       "      <td>2024</td>\n",
       "      <td>2025-01-20</td>\n",
       "      <td>54.0000</td>\n",
       "      <td>5.30000</td>\n",
       "      <td>4.90000</td>\n",
       "      <td>NaN</td>\n",
       "      <td>NaN</td>\n",
       "      <td>NaN</td>\n",
       "      <td>0.7750</td>\n",
       "      <td>...</td>\n",
       "      <td>6910.0</td>\n",
       "      <td>210.0</td>\n",
       "      <td>210.0</td>\n",
       "      <td>NaN</td>\n",
       "      <td>NaN</td>\n",
       "      <td>NaN</td>\n",
       "      <td>Confirmed</td>\n",
       "      <td>Published in a refereed paper</td>\n",
       "      <td>Radial Velocity</td>\n",
       "      <td>Primary Transit</td>\n",
       "    </tr>\n",
       "    <tr>\n",
       "      <th>1</th>\n",
       "      <td>TOI-286 c</td>\n",
       "      <td>2024</td>\n",
       "      <td>2024-06-11</td>\n",
       "      <td>0.0117</td>\n",
       "      <td>0.00698</td>\n",
       "      <td>0.00698</td>\n",
       "      <td>NaN</td>\n",
       "      <td>NaN</td>\n",
       "      <td>NaN</td>\n",
       "      <td>0.1677</td>\n",
       "      <td>...</td>\n",
       "      <td>5132.0</td>\n",
       "      <td>12.0</td>\n",
       "      <td>12.0</td>\n",
       "      <td>NaN</td>\n",
       "      <td>NaN</td>\n",
       "      <td>NaN</td>\n",
       "      <td>Confirmed</td>\n",
       "      <td>Published in a refereed paper</td>\n",
       "      <td>Radial Velocity</td>\n",
       "      <td>Primary Transit</td>\n",
       "    </tr>\n",
       "    <tr>\n",
       "      <th>2</th>\n",
       "      <td>TOI-2986 b</td>\n",
       "      <td>2025</td>\n",
       "      <td>2025-07-03</td>\n",
       "      <td>0.3040</td>\n",
       "      <td>0.08600</td>\n",
       "      <td>0.06700</td>\n",
       "      <td>NaN</td>\n",
       "      <td>NaN</td>\n",
       "      <td>NaN</td>\n",
       "      <td>0.8290</td>\n",
       "      <td>...</td>\n",
       "      <td>5906.0</td>\n",
       "      <td>69.0</td>\n",
       "      <td>66.0</td>\n",
       "      <td>NaN</td>\n",
       "      <td>NaN</td>\n",
       "      <td>NaN</td>\n",
       "      <td>Confirmed</td>\n",
       "      <td>Published in a refereed paper</td>\n",
       "      <td>Radial Velocity</td>\n",
       "      <td>Primary Transit</td>\n",
       "    </tr>\n",
       "    <tr>\n",
       "      <th>3</th>\n",
       "      <td>TOI-3023 b</td>\n",
       "      <td>2022</td>\n",
       "      <td>2022-10-31</td>\n",
       "      <td>0.6200</td>\n",
       "      <td>0.10000</td>\n",
       "      <td>0.10000</td>\n",
       "      <td>NaN</td>\n",
       "      <td>NaN</td>\n",
       "      <td>NaN</td>\n",
       "      <td>1.4660</td>\n",
       "      <td>...</td>\n",
       "      <td>5760.0</td>\n",
       "      <td>88.0</td>\n",
       "      <td>88.0</td>\n",
       "      <td>NaN</td>\n",
       "      <td>NaN</td>\n",
       "      <td>NaN</td>\n",
       "      <td>Confirmed</td>\n",
       "      <td>Published in a refereed paper</td>\n",
       "      <td>Radial Velocity</td>\n",
       "      <td>Primary Transit</td>\n",
       "    </tr>\n",
       "    <tr>\n",
       "      <th>4</th>\n",
       "      <td>TOI-3321 Ab</td>\n",
       "      <td>2024</td>\n",
       "      <td>2025-02-11</td>\n",
       "      <td>0.5540</td>\n",
       "      <td>0.07600</td>\n",
       "      <td>0.07600</td>\n",
       "      <td>NaN</td>\n",
       "      <td>NaN</td>\n",
       "      <td>NaN</td>\n",
       "      <td>1.3900</td>\n",
       "      <td>...</td>\n",
       "      <td>5850.0</td>\n",
       "      <td>140.0</td>\n",
       "      <td>140.0</td>\n",
       "      <td>NaN</td>\n",
       "      <td>NaN</td>\n",
       "      <td>NaN</td>\n",
       "      <td>Confirmed</td>\n",
       "      <td>Published in a refereed paper</td>\n",
       "      <td>Radial Velocity</td>\n",
       "      <td>Primary Transit</td>\n",
       "    </tr>\n",
       "  </tbody>\n",
       "</table>\n",
       "<p>5 rows × 98 columns</p>\n",
       "</div>"
      ],
      "text/plain": [
       "          name  discovered     updated     mass  mass_error_min  \\\n",
       "0   TOI-2844 b        2024  2025-01-20  54.0000         5.30000   \n",
       "1    TOI-286 c        2024  2024-06-11   0.0117         0.00698   \n",
       "2   TOI-2986 b        2025  2025-07-03   0.3040         0.08600   \n",
       "3   TOI-3023 b        2022  2022-10-31   0.6200         0.10000   \n",
       "4  TOI-3321 Ab        2024  2025-02-11   0.5540         0.07600   \n",
       "\n",
       "   mass_error_max  mass_sini  mass_sini_error_min  mass_sini_error_max  \\\n",
       "0         4.90000        NaN                  NaN                  NaN   \n",
       "1         0.00698        NaN                  NaN                  NaN   \n",
       "2         0.06700        NaN                  NaN                  NaN   \n",
       "3         0.10000        NaN                  NaN                  NaN   \n",
       "4         0.07600        NaN                  NaN                  NaN   \n",
       "\n",
       "   radius  ...  star_teff  star_teff_error_min  star_teff_error_max  \\\n",
       "0  0.7750  ...     6910.0                210.0                210.0   \n",
       "1  0.1677  ...     5132.0                 12.0                 12.0   \n",
       "2  0.8290  ...     5906.0                 69.0                 66.0   \n",
       "3  1.4660  ...     5760.0                 88.0                 88.0   \n",
       "4  1.3900  ...     5850.0                140.0                140.0   \n",
       "\n",
       "   star_detected_disc  star_magnetic_field  star_alternate_names  \\\n",
       "0                 NaN                  NaN                   NaN   \n",
       "1                 NaN                  NaN                   NaN   \n",
       "2                 NaN                  NaN                   NaN   \n",
       "3                 NaN                  NaN                   NaN   \n",
       "4                 NaN                  NaN                   NaN   \n",
       "\n",
       "   planet_status                    publication  mass_measurement_type  \\\n",
       "0      Confirmed  Published in a refereed paper        Radial Velocity   \n",
       "1      Confirmed  Published in a refereed paper        Radial Velocity   \n",
       "2      Confirmed  Published in a refereed paper        Radial Velocity   \n",
       "3      Confirmed  Published in a refereed paper        Radial Velocity   \n",
       "4      Confirmed  Published in a refereed paper        Radial Velocity   \n",
       "\n",
       "   radius_measurement_type  \n",
       "0          Primary Transit  \n",
       "1          Primary Transit  \n",
       "2          Primary Transit  \n",
       "3          Primary Transit  \n",
       "4          Primary Transit  \n",
       "\n",
       "[5 rows x 98 columns]"
      ]
     },
     "execution_count": 68,
     "metadata": {},
     "output_type": "execute_result"
    }
   ],
   "source": [
    "data_path = 'Data/exoplaneteu_catalog-1.csv'\n",
    "df = pd.read_csv(data_path, sep=';', low_memory=False)\n",
    "\n",
    "print('Dimensiones del conjunto de datos:', df.shape)\n",
    "df.head()"
   ]
  },
  {
   "cell_type": "code",
   "execution_count": 72,
   "id": "52621b2d",
   "metadata": {},
   "outputs": [
    {
     "name": "stdout",
     "output_type": "stream",
     "text": [
      "\n",
      "Distribucion de composicion planetaria por tipo de estrella (%):\n",
      "composicion  Gaseoso  Rocoso\n",
      "spec_class                  \n",
      "A              97.56    2.44\n",
      "B              75.00   25.00\n",
      "C             100.00    0.00\n",
      "D              97.78    2.22\n",
      "F              68.36   31.64\n",
      "G              44.65   55.35\n",
      "K              42.18   57.82\n",
      "L             100.00    0.00\n",
      "M              47.83   52.17\n",
      "P              82.22   17.78\n",
      "S              73.33   26.67\n",
      "T             100.00    0.00\n",
      "W             100.00    0.00\n",
      "CONCLUSION:\n",
      "Estrellas tipo M: 52.2% rocosos, 47.8% gaseosos\n",
      "Estrellas tipo K: 57.8% rocosos, 42.2% gaseosos\n",
      "Estrellas tipo G: 55.3% rocosos, 44.7% gaseosos\n",
      "Estrellas tipo F: 31.6% rocosos, 68.4% gaseosos\n",
      "\n",
      "Respuesta: SÍ es posible obtener información sobre el tipo de planeta\n",
      "a partir de su estrella anfitriona, aunque con limitaciones.\n",
      "Las estrellas M tienden a tener MÁS planetas rocosos.\n",
      "Las estrellas F/G tienden a tener MÁS planetas gaseosos.\n"
     ]
    }
   ],
   "source": [
    "# Analisis: ¿Podemos clasificar planetas segun caracteristicas estelares?\n",
    "\n",
    "# Definir tipo simple: Rocoso vs Gaseoso\n",
    "def clasificar_composicion_simple(fila):\n",
    "    radio = fila['radius']\n",
    "    masa = fila['mass']\n",
    "    \n",
    "    if pd.notnull(radio):\n",
    "        if radio < 0.4:  # Menor que ~4 radios terrestres\n",
    "            return 'Rocoso'\n",
    "        else:\n",
    "            return 'Gaseoso'\n",
    "    elif pd.notnull(masa):\n",
    "        if masa < 0.15:  # Menor que ~15% masa de Jupiter\n",
    "            return 'Rocoso'\n",
    "        else:\n",
    "            return 'Gaseoso'\n",
    "    else:\n",
    "        return 'Desconocido'\n",
    "\n",
    "df['composicion'] = df.apply(clasificar_composicion_simple, axis=1)\n",
    "\n",
    "# Crear columna spec_class extrayendo la primera letra del tipo espectral\n",
    "def extraer_clase_espectral(tipo_espectral):\n",
    "    if pd.isna(tipo_espectral) or not isinstance(tipo_espectral, str) or len(tipo_espectral) == 0:\n",
    "        return np.nan\n",
    "    return tipo_espectral.strip()[0].upper()\n",
    "\n",
    "df['spec_class'] = df['star_sp_type'].apply(extraer_clase_espectral)\n",
    "\n",
    "# Analizar distribucion por clase espectral\n",
    "df_analisis = df[df['composicion'] != 'Desconocido']\n",
    "distribucion = pd.crosstab(df_analisis['spec_class'], df_analisis['composicion'], normalize='index') * 100\n",
    "\n",
    "print(\"\\nDistribucion de composicion planetaria por tipo de estrella (%):\")\n",
    "print(distribucion.round(2))\n",
    "\n",
    "print(\"CONCLUSION:\")\n",
    "\n",
    "# Calcular si hay diferencias significativas\n",
    "for clase in ['M', 'K', 'G', 'F']:\n",
    "    if clase in distribucion.index:\n",
    "        rocoso = distribucion.loc[clase, 'Rocoso'] if 'Rocoso' in distribucion.columns else 0\n",
    "        gaseoso = distribucion.loc[clase, 'Gaseoso'] if 'Gaseoso' in distribucion.columns else 0\n",
    "        print(f\"Estrellas tipo {clase}: {rocoso:.1f}% rocosos, {gaseoso:.1f}% gaseosos\")\n",
    "\n",
    "print(\"\\nRespuesta: SÍ es posible obtener información sobre el tipo de planeta\")\n",
    "print(\"a partir de su estrella anfitriona, aunque con limitaciones.\")\n",
    "print(\"Las estrellas M tienden a tener MÁS planetas rocosos.\")\n",
    "print(\"Las estrellas F/G tienden a tener MÁS planetas gaseosos.\")"
   ]
  },
  {
   "cell_type": "markdown",
   "id": "9b636f12",
   "metadata": {},
   "source": [
    "### Pregunta 5: Descubrimientos de Planetas por Tipo y Año\n",
    "\n",
    "Cuantos planetas de cierto tipo se descubren por año? Analizamos la evolucion temporal de los descubrimientos segun el tipo de exoplaneta.\n"
   ]
  },
  {
   "cell_type": "code",
   "execution_count": 74,
   "id": "fe8bf43f",
   "metadata": {},
   "outputs": [],
   "source": [
    "# Cargar el dataset con informacion de radios y años de descubrimiento\n",
    "ruta = os.path.join(\"Data\", \"PSCompPars_2025.10.17_15.58.36.csv\")\n",
    "df_planetas = pd.read_csv(ruta, on_bad_lines=\"skip\", skiprows=88)\n",
    "\n",
    "# Clasificar planetas por tamaño usando copia para evitar SettingWithCopyWarning\n",
    "otros_tipos = df_planetas[df_planetas[\"pl_rade\"] < 2].copy()\n",
    "supertierra = df_planetas[(df_planetas[\"pl_rade\"] >= 2) & (df_planetas[\"pl_rade\"] <= 10)].copy()\n",
    "gigantes = df_planetas[df_planetas[\"pl_rade\"] > 10].copy()\n",
    "\n",
    "otros_tipos[\"type\"] = \"O\"\n",
    "supertierra[\"type\"] = \"S\"\n",
    "gigantes[\"type\"] = \"G\""
   ]
  },
  {
   "cell_type": "code",
   "execution_count": 75,
   "id": "6001ff2d",
   "metadata": {},
   "outputs": [
    {
     "data": {
      "text/html": [
       "<div>\n",
       "<style scoped>\n",
       "    .dataframe tbody tr th:only-of-type {\n",
       "        vertical-align: middle;\n",
       "    }\n",
       "\n",
       "    .dataframe tbody tr th {\n",
       "        vertical-align: top;\n",
       "    }\n",
       "\n",
       "    .dataframe thead th {\n",
       "        text-align: right;\n",
       "    }\n",
       "</style>\n",
       "<table border=\"1\" class=\"dataframe\">\n",
       "  <thead>\n",
       "    <tr style=\"text-align: right;\">\n",
       "      <th></th>\n",
       "      <th>disc_year</th>\n",
       "      <th>type</th>\n",
       "      <th>cantidad</th>\n",
       "    </tr>\n",
       "  </thead>\n",
       "  <tbody>\n",
       "    <tr>\n",
       "      <th>0</th>\n",
       "      <td>2000</td>\n",
       "      <td>S</td>\n",
       "      <td>1</td>\n",
       "    </tr>\n",
       "    <tr>\n",
       "      <th>1</th>\n",
       "      <td>2002</td>\n",
       "      <td>S</td>\n",
       "      <td>2</td>\n",
       "    </tr>\n",
       "    <tr>\n",
       "      <th>2</th>\n",
       "      <td>2004</td>\n",
       "      <td>S</td>\n",
       "      <td>5</td>\n",
       "    </tr>\n",
       "    <tr>\n",
       "      <th>3</th>\n",
       "      <td>2005</td>\n",
       "      <td>S</td>\n",
       "      <td>8</td>\n",
       "    </tr>\n",
       "    <tr>\n",
       "      <th>4</th>\n",
       "      <td>2006</td>\n",
       "      <td>S</td>\n",
       "      <td>5</td>\n",
       "    </tr>\n",
       "    <tr>\n",
       "      <th>5</th>\n",
       "      <td>2007</td>\n",
       "      <td>S</td>\n",
       "      <td>5</td>\n",
       "    </tr>\n",
       "    <tr>\n",
       "      <th>6</th>\n",
       "      <td>2008</td>\n",
       "      <td>S</td>\n",
       "      <td>9</td>\n",
       "    </tr>\n",
       "    <tr>\n",
       "      <th>7</th>\n",
       "      <td>2009</td>\n",
       "      <td>S</td>\n",
       "      <td>18</td>\n",
       "    </tr>\n",
       "    <tr>\n",
       "      <th>8</th>\n",
       "      <td>2010</td>\n",
       "      <td>S</td>\n",
       "      <td>26</td>\n",
       "    </tr>\n",
       "    <tr>\n",
       "      <th>9</th>\n",
       "      <td>2011</td>\n",
       "      <td>S</td>\n",
       "      <td>39</td>\n",
       "    </tr>\n",
       "    <tr>\n",
       "      <th>10</th>\n",
       "      <td>2012</td>\n",
       "      <td>S</td>\n",
       "      <td>48</td>\n",
       "    </tr>\n",
       "    <tr>\n",
       "      <th>11</th>\n",
       "      <td>2013</td>\n",
       "      <td>S</td>\n",
       "      <td>57</td>\n",
       "    </tr>\n",
       "    <tr>\n",
       "      <th>12</th>\n",
       "      <td>2014</td>\n",
       "      <td>S</td>\n",
       "      <td>402</td>\n",
       "    </tr>\n",
       "    <tr>\n",
       "      <th>13</th>\n",
       "      <td>2015</td>\n",
       "      <td>S</td>\n",
       "      <td>54</td>\n",
       "    </tr>\n",
       "    <tr>\n",
       "      <th>14</th>\n",
       "      <td>2016</td>\n",
       "      <td>S</td>\n",
       "      <td>723</td>\n",
       "    </tr>\n",
       "    <tr>\n",
       "      <th>15</th>\n",
       "      <td>2017</td>\n",
       "      <td>S</td>\n",
       "      <td>41</td>\n",
       "    </tr>\n",
       "    <tr>\n",
       "      <th>16</th>\n",
       "      <td>2018</td>\n",
       "      <td>S</td>\n",
       "      <td>131</td>\n",
       "    </tr>\n",
       "    <tr>\n",
       "      <th>17</th>\n",
       "      <td>2019</td>\n",
       "      <td>S</td>\n",
       "      <td>75</td>\n",
       "    </tr>\n",
       "    <tr>\n",
       "      <th>18</th>\n",
       "      <td>2020</td>\n",
       "      <td>S</td>\n",
       "      <td>125</td>\n",
       "    </tr>\n",
       "    <tr>\n",
       "      <th>19</th>\n",
       "      <td>2021</td>\n",
       "      <td>S</td>\n",
       "      <td>277</td>\n",
       "    </tr>\n",
       "    <tr>\n",
       "      <th>20</th>\n",
       "      <td>2022</td>\n",
       "      <td>S</td>\n",
       "      <td>147</td>\n",
       "    </tr>\n",
       "    <tr>\n",
       "      <th>21</th>\n",
       "      <td>2023</td>\n",
       "      <td>S</td>\n",
       "      <td>139</td>\n",
       "    </tr>\n",
       "    <tr>\n",
       "      <th>22</th>\n",
       "      <td>2024</td>\n",
       "      <td>S</td>\n",
       "      <td>123</td>\n",
       "    </tr>\n",
       "    <tr>\n",
       "      <th>23</th>\n",
       "      <td>2025</td>\n",
       "      <td>S</td>\n",
       "      <td>69</td>\n",
       "    </tr>\n",
       "  </tbody>\n",
       "</table>\n",
       "</div>"
      ],
      "text/plain": [
       "    disc_year type  cantidad\n",
       "0        2000    S         1\n",
       "1        2002    S         2\n",
       "2        2004    S         5\n",
       "3        2005    S         8\n",
       "4        2006    S         5\n",
       "5        2007    S         5\n",
       "6        2008    S         9\n",
       "7        2009    S        18\n",
       "8        2010    S        26\n",
       "9        2011    S        39\n",
       "10       2012    S        48\n",
       "11       2013    S        57\n",
       "12       2014    S       402\n",
       "13       2015    S        54\n",
       "14       2016    S       723\n",
       "15       2017    S        41\n",
       "16       2018    S       131\n",
       "17       2019    S        75\n",
       "18       2020    S       125\n",
       "19       2021    S       277\n",
       "20       2022    S       147\n",
       "21       2023    S       139\n",
       "22       2024    S       123\n",
       "23       2025    S        69"
      ]
     },
     "execution_count": 75,
     "metadata": {},
     "output_type": "execute_result"
    }
   ],
   "source": [
    "supertierra = supertierra.groupby([\"disc_year\", \"type\"]).size().reset_index(name=\"cantidad\")\n",
    "otros_tipos = otros_tipos.groupby([\"disc_year\", \"type\"]).size().reset_index(name=\"cantidad\")\n",
    "gigantes = gigantes.groupby([\"disc_year\", \"type\"]).size().reset_index(name=\"cantidad\")\n",
    "supertierra"
   ]
  }
 ],
 "metadata": {
  "kernelspec": {
   "display_name": ".venv",
   "language": "python",
   "name": "python3"
  },
  "language_info": {
   "codemirror_mode": {
    "name": "ipython",
    "version": 3
   },
   "file_extension": ".py",
   "mimetype": "text/x-python",
   "name": "python",
   "nbconvert_exporter": "python",
   "pygments_lexer": "ipython3",
   "version": "3.12.10"
  }
 },
 "nbformat": 4,
 "nbformat_minor": 5
}
